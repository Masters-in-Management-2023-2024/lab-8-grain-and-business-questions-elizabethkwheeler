{
  "cells": [
    {
      "cell_type": "markdown",
      "metadata": {
        "id": "GIsqQLIR5-8z"
      },
      "source": [
        "# Diamond Company Analytics Challenge\n",
        "\n",
        "**Time:** 35 minutes\n",
        "\n",
        "**Scenario:** You are the new data analyst at a prestigious diamond company. The CEO has called an urgent meeting and needs answers to critical business questions about the inventory.\n",
        "\n",
        "**Your Mission:** Analyze the diamond inventory data and provide insights to guide strategic decisions."
      ]
    },
    {
      "cell_type": "code",
      "execution_count": 1,
      "metadata": {
        "colab": {
          "base_uri": "https://localhost:8080/"
        },
        "id": "wRAlIDdm5-8z",
        "outputId": "b27988e0-f4f3-449e-e945-634b28697ee1"
      },
      "outputs": [
        {
          "output_type": "stream",
          "name": "stdout",
          "text": [
            "Loading diamonds dataset...\n",
            "Dataset loaded successfully!\n"
          ]
        }
      ],
      "source": [
        "import polars as pl\n",
        "\n",
        "# Load the diamonds dataset\n",
        "print(\"Loading diamonds dataset...\")\n",
        "df = pl.read_csv('https://raw.githubusercontent.com/pycaret/pycaret/master/datasets/diamond.csv')\n",
        "print(\"Dataset loaded successfully!\")"
      ]
    },
    {
      "cell_type": "markdown",
      "metadata": {
        "id": "EqeNXOQa5-80"
      },
      "source": [
        "## Section 1: Initial Inventory Assessment (5 minutes)\n",
        "\n",
        "The CEO walks in: \"Before we dive into specifics, I need to understand what we're working with. Give me the basics about our inventory database.\""
      ]
    },
    {
      "cell_type": "markdown",
      "metadata": {
        "id": "1Lp2dvr15-80"
      },
      "source": [
        "### Question 1: \"How extensive is our inventory database?\"\n",
        "\n",
        "The CEO needs to know the scale of data you're analyzing."
      ]
    },
    {
      "cell_type": "code",
      "execution_count": 6,
      "metadata": {
        "colab": {
          "base_uri": "https://localhost:8080/"
        },
        "id": "PZolc3sr5-80",
        "outputId": "df30ff37-4c61-4cfe-9a77-287b2421cceb"
      },
      "outputs": [
        {
          "output_type": "execute_result",
          "data": {
            "text/plain": [
              "6000"
            ]
          },
          "metadata": {},
          "execution_count": 6
        }
      ],
      "source": [
        "# Your code here:\n",
        "inventory_size = df.height\n",
        "inventory_size"
      ]
    },
    {
      "cell_type": "markdown",
      "metadata": {
        "id": "9jYXWyyy5-80"
      },
      "source": [
        "### Question 2: \"What information do we track about each diamond?\"\n",
        "\n",
        "List all the characteristics we record."
      ]
    },
    {
      "cell_type": "code",
      "execution_count": 7,
      "metadata": {
        "colab": {
          "base_uri": "https://localhost:8080/"
        },
        "id": "TxuwTF7N5-80",
        "outputId": "c69e6b38-7039-4b2c-836b-c1a63431075e"
      },
      "outputs": [
        {
          "output_type": "execute_result",
          "data": {
            "text/plain": [
              "['Carat Weight',\n",
              " 'Cut',\n",
              " 'Color',\n",
              " 'Clarity',\n",
              " 'Polish',\n",
              " 'Symmetry',\n",
              " 'Report',\n",
              " 'Price']"
            ]
          },
          "metadata": {},
          "execution_count": 7
        }
      ],
      "source": [
        "# Your code here:\n",
        "characteristics = df.columns\n",
        "characteristics"
      ]
    },
    {
      "cell_type": "markdown",
      "metadata": {
        "id": "m7RWR9Rn5-80"
      },
      "source": [
        "### Question 3: \"When I look at one line in this database, what am I looking at?\"\n",
        "\n",
        "Explain in business terms:"
      ]
    },
    {
      "cell_type": "markdown",
      "metadata": {
        "id": "8_iIJdTs5-80"
      },
      "source": [
        "**Your answer:** Each row represents: Each line represents one diamond in the inventory and then more information about its attributes."
      ]
    },
    {
      "cell_type": "markdown",
      "metadata": {
        "id": "yH9w-RDy5-80"
      },
      "source": [
        "## Section 2: Strategic Business Questions (20 minutes)\n",
        "\n",
        "The CEO continues: \"Now let's get to the important questions. Our board meeting is tomorrow and I need concrete numbers.\""
      ]
    },
    {
      "cell_type": "markdown",
      "metadata": {
        "id": "-fADs8Zs5-81"
      },
      "source": [
        "### Question 4: \"We're considering expanding our storage facilities. How many total carats do we have in inventory? I need to know if our vaults can handle the weight.\"\n",
        "\n",
        "Think about what measurement would help answer this."
      ]
    },
    {
      "cell_type": "code",
      "execution_count": 12,
      "metadata": {
        "id": "pCutfhg75-81",
        "colab": {
          "base_uri": "https://localhost:8080/",
          "height": 129
        },
        "outputId": "7d4eed0b-cb67-44d0-e072-09b1753fe464"
      },
      "outputs": [
        {
          "output_type": "display_data",
          "data": {
            "text/plain": [
              "shape: (1, 1)\n",
              "┌──────────────┐\n",
              "│ total_carats │\n",
              "│ ---          │\n",
              "│ f64          │\n",
              "╞══════════════╡\n",
              "│ 8007.12      │\n",
              "└──────────────┘"
            ],
            "text/html": [
              "<div><style>\n",
              ".dataframe > thead > tr,\n",
              ".dataframe > tbody > tr {\n",
              "  text-align: right;\n",
              "  white-space: pre-wrap;\n",
              "}\n",
              "</style>\n",
              "<small>shape: (1, 1)</small><table border=\"1\" class=\"dataframe\"><thead><tr><th>total_carats</th></tr><tr><td>f64</td></tr></thead><tbody><tr><td>8007.12</td></tr></tbody></table></div>"
            ]
          },
          "metadata": {}
        }
      ],
      "source": [
        "# Your code here:\n",
        "inventory_totals = df.select(\n",
        "    pl.col(\"Carat Weight\").sum().alias(\"total_carats\")\n",
        ")\n",
        "display(inventory_totals)"
      ]
    },
    {
      "cell_type": "markdown",
      "metadata": {
        "id": "7WIHbdDc5-81"
      },
      "source": [
        "### Question 5: \"Our new marketing campaign claims we have 'the widest variety of cuts in the industry.' Can you verify this?\"\n",
        "\n",
        "The CEO wants to know about variety, not quantity."
      ]
    },
    {
      "cell_type": "code",
      "execution_count": 16,
      "metadata": {
        "id": "8XGyDqm05-81",
        "colab": {
          "base_uri": "https://localhost:8080/",
          "height": 367
        },
        "outputId": "a46bb9d9-25a3-49c3-ab2b-e60a44d313de"
      },
      "outputs": [
        {
          "output_type": "display_data",
          "data": {
            "text/plain": [
              "shape: (1, 1)\n",
              "┌──────────────────┐\n",
              "│ unique_cut_types │\n",
              "│ ---              │\n",
              "│ u32              │\n",
              "╞══════════════════╡\n",
              "│ 5                │\n",
              "└──────────────────┘"
            ],
            "text/html": [
              "<div><style>\n",
              ".dataframe > thead > tr,\n",
              ".dataframe > tbody > tr {\n",
              "  text-align: right;\n",
              "  white-space: pre-wrap;\n",
              "}\n",
              "</style>\n",
              "<small>shape: (1, 1)</small><table border=\"1\" class=\"dataframe\"><thead><tr><th>unique_cut_types</th></tr><tr><td>u32</td></tr></thead><tbody><tr><td>5</td></tr></tbody></table></div>"
            ]
          },
          "metadata": {}
        },
        {
          "output_type": "display_data",
          "data": {
            "text/plain": [
              "shape: (5, 1)\n",
              "┌─────────────────┐\n",
              "│ cut_types       │\n",
              "│ ---             │\n",
              "│ str             │\n",
              "╞═════════════════╡\n",
              "│ Very Good       │\n",
              "│ Signature-Ideal │\n",
              "│ Good            │\n",
              "│ Ideal           │\n",
              "│ Fair            │\n",
              "└─────────────────┘"
            ],
            "text/html": [
              "<div><style>\n",
              ".dataframe > thead > tr,\n",
              ".dataframe > tbody > tr {\n",
              "  text-align: right;\n",
              "  white-space: pre-wrap;\n",
              "}\n",
              "</style>\n",
              "<small>shape: (5, 1)</small><table border=\"1\" class=\"dataframe\"><thead><tr><th>cut_types</th></tr><tr><td>str</td></tr></thead><tbody><tr><td>&quot;Very Good&quot;</td></tr><tr><td>&quot;Signature-Ideal&quot;</td></tr><tr><td>&quot;Good&quot;</td></tr><tr><td>&quot;Ideal&quot;</td></tr><tr><td>&quot;Fair&quot;</td></tr></tbody></table></div>"
            ]
          },
          "metadata": {}
        }
      ],
      "source": [
        "# Your code here:\n",
        "unique_cuts = df.select(pl.col(\"Cut\").n_unique().alias(\"unique_cut_types\"))\n",
        "cut_list = df.select(pl.col(\"Cut\").unique().alias(\"cut_types\"))\n",
        "display(unique_cuts)\n",
        "display(cut_list)"
      ]
    },
    {
      "cell_type": "markdown",
      "metadata": {
        "id": "u6GC5I_v5-81"
      },
      "source": [
        "### Question 6: \"I'm meeting with our insurance company. They need to know our price exposure - what's our most and least valuable diamond?\""
      ]
    },
    {
      "cell_type": "code",
      "execution_count": 20,
      "metadata": {
        "id": "3V23A_Rh5-81",
        "colab": {
          "base_uri": "https://localhost:8080/",
          "height": 242
        },
        "outputId": "64753ad1-c3d6-4cff-926c-2c773ecd8006"
      },
      "outputs": [
        {
          "output_type": "display_data",
          "data": {
            "text/plain": [
              "shape: (1, 8)\n",
              "┌──────────────┬───────┬───────┬─────────┬────────┬──────────┬────────┬────────┐\n",
              "│ Carat Weight ┆ Cut   ┆ Color ┆ Clarity ┆ Polish ┆ Symmetry ┆ Report ┆ Price  │\n",
              "│ ---          ┆ ---   ┆ ---   ┆ ---     ┆ ---    ┆ ---      ┆ ---    ┆ ---    │\n",
              "│ f64          ┆ str   ┆ str   ┆ str     ┆ str    ┆ str      ┆ str    ┆ i64    │\n",
              "╞══════════════╪═══════╪═══════╪═════════╪════════╪══════════╪════════╪════════╡\n",
              "│ 2.79         ┆ Ideal ┆ D     ┆ IF      ┆ EX     ┆ EX       ┆ GIA    ┆ 101561 │\n",
              "└──────────────┴───────┴───────┴─────────┴────────┴──────────┴────────┴────────┘"
            ],
            "text/html": [
              "<div><style>\n",
              ".dataframe > thead > tr,\n",
              ".dataframe > tbody > tr {\n",
              "  text-align: right;\n",
              "  white-space: pre-wrap;\n",
              "}\n",
              "</style>\n",
              "<small>shape: (1, 8)</small><table border=\"1\" class=\"dataframe\"><thead><tr><th>Carat Weight</th><th>Cut</th><th>Color</th><th>Clarity</th><th>Polish</th><th>Symmetry</th><th>Report</th><th>Price</th></tr><tr><td>f64</td><td>str</td><td>str</td><td>str</td><td>str</td><td>str</td><td>str</td><td>i64</td></tr></thead><tbody><tr><td>2.79</td><td>&quot;Ideal&quot;</td><td>&quot;D&quot;</td><td>&quot;IF&quot;</td><td>&quot;EX&quot;</td><td>&quot;EX&quot;</td><td>&quot;GIA&quot;</td><td>101561</td></tr></tbody></table></div>"
            ]
          },
          "metadata": {}
        },
        {
          "output_type": "display_data",
          "data": {
            "text/plain": [
              "shape: (1, 8)\n",
              "┌──────────────┬──────┬───────┬─────────┬────────┬──────────┬────────┬───────┐\n",
              "│ Carat Weight ┆ Cut  ┆ Color ┆ Clarity ┆ Polish ┆ Symmetry ┆ Report ┆ Price │\n",
              "│ ---          ┆ ---  ┆ ---   ┆ ---     ┆ ---    ┆ ---      ┆ ---    ┆ ---   │\n",
              "│ f64          ┆ str  ┆ str   ┆ str     ┆ str    ┆ str      ┆ str    ┆ i64   │\n",
              "╞══════════════╪══════╪═══════╪═════════╪════════╪══════════╪════════╪═══════╡\n",
              "│ 0.77         ┆ Good ┆ I     ┆ VS1     ┆ VG     ┆ G        ┆ AGSL   ┆ 2184  │\n",
              "└──────────────┴──────┴───────┴─────────┴────────┴──────────┴────────┴───────┘"
            ],
            "text/html": [
              "<div><style>\n",
              ".dataframe > thead > tr,\n",
              ".dataframe > tbody > tr {\n",
              "  text-align: right;\n",
              "  white-space: pre-wrap;\n",
              "}\n",
              "</style>\n",
              "<small>shape: (1, 8)</small><table border=\"1\" class=\"dataframe\"><thead><tr><th>Carat Weight</th><th>Cut</th><th>Color</th><th>Clarity</th><th>Polish</th><th>Symmetry</th><th>Report</th><th>Price</th></tr><tr><td>f64</td><td>str</td><td>str</td><td>str</td><td>str</td><td>str</td><td>str</td><td>i64</td></tr></thead><tbody><tr><td>0.77</td><td>&quot;Good&quot;</td><td>&quot;I&quot;</td><td>&quot;VS1&quot;</td><td>&quot;VG&quot;</td><td>&quot;G&quot;</td><td>&quot;AGSL&quot;</td><td>2184</td></tr></tbody></table></div>"
            ]
          },
          "metadata": {}
        }
      ],
      "source": [
        "# Your code here:\n",
        "most_valuable = df.sort(\"Price\", descending=True).head(1)\n",
        "least_valuable = df.sort(\"Price\", descending=False).head(1)\n",
        "\n",
        "\n",
        "display(most_valuable)\n",
        "display(least_valuable)"
      ]
    },
    {
      "cell_type": "markdown",
      "metadata": {
        "id": "Smh9-urP5-81"
      },
      "source": [
        "### Question 7: \"Which color grades should we focus on in our premium line? I need typical prices across our color spectrum.\"\n",
        "\n",
        "The CEO wants to understand pricing patterns."
      ]
    },
    {
      "cell_type": "code",
      "execution_count": 23,
      "metadata": {
        "id": "R7soicw15-81",
        "colab": {
          "base_uri": "https://localhost:8080/",
          "height": 286
        },
        "outputId": "cf205e0c-c7b6-4ef1-d3b4-e8c451ecf4b8"
      },
      "outputs": [
        {
          "output_type": "display_data",
          "data": {
            "text/plain": [
              "shape: (6, 2)\n",
              "┌───────┬──────────────┐\n",
              "│ Color ┆ avg_price    │\n",
              "│ ---   ┆ ---          │\n",
              "│ str   ┆ f64          │\n",
              "╞═══════╪══════════════╡\n",
              "│ D     ┆ 15255.783661 │\n",
              "│ F     ┆ 12712.241856 │\n",
              "│ G     ┆ 12520.050633 │\n",
              "│ E     ┆ 11539.190231 │\n",
              "│ H     ┆ 10487.347544 │\n",
              "│ I     ┆ 8989.636364  │\n",
              "└───────┴──────────────┘"
            ],
            "text/html": [
              "<div><style>\n",
              ".dataframe > thead > tr,\n",
              ".dataframe > tbody > tr {\n",
              "  text-align: right;\n",
              "  white-space: pre-wrap;\n",
              "}\n",
              "</style>\n",
              "<small>shape: (6, 2)</small><table border=\"1\" class=\"dataframe\"><thead><tr><th>Color</th><th>avg_price</th></tr><tr><td>str</td><td>f64</td></tr></thead><tbody><tr><td>&quot;D&quot;</td><td>15255.783661</td></tr><tr><td>&quot;F&quot;</td><td>12712.241856</td></tr><tr><td>&quot;G&quot;</td><td>12520.050633</td></tr><tr><td>&quot;E&quot;</td><td>11539.190231</td></tr><tr><td>&quot;H&quot;</td><td>10487.347544</td></tr><tr><td>&quot;I&quot;</td><td>8989.636364</td></tr></tbody></table></div>"
            ]
          },
          "metadata": {}
        }
      ],
      "source": [
        "# Your code here:\n",
        "color_price_summary = (\n",
        "    df.group_by(\"Color\")\n",
        "    .agg(pl.col(\"Price\").mean().alias(\"avg_price\"))\n",
        "    .sort(\"avg_price\", descending=True)\n",
        ")\n",
        "display(color_price_summary)"
      ]
    },
    {
      "cell_type": "markdown",
      "metadata": {
        "id": "dNdm5Jh55-81"
      },
      "source": [
        "**Reflection:** After analyzing by color, how has your view of the data changed? What does each row in your result represent now?"
      ]
    },
    {
      "cell_type": "markdown",
      "metadata": {
        "id": "93B3HGId5-81"
      },
      "source": [
        "**Your answer:** New grain = Each row now shows one diamond color, along with the average price of diamonds in that color."
      ]
    },
    {
      "cell_type": "markdown",
      "metadata": {
        "id": "KDP4EPOj5-81"
      },
      "source": [
        "## Section 3: Advanced Strategic Analysis (10 minutes)\n",
        "\n",
        "The CEO leans forward: \"These next questions will shape our strategy for next year.\""
      ]
    },
    {
      "cell_type": "markdown",
      "metadata": {
        "id": "AY0Sn7r_5-81"
      },
      "source": [
        "### Question 8: \"We're thinking of specializing in certain clarity grades. For our investor deck, I need a complete breakdown showing: how many diamonds we have in each clarity grade, their typical price, and the total carats we're holding for each grade.\""
      ]
    },
    {
      "cell_type": "code",
      "execution_count": 31,
      "metadata": {
        "id": "xtnfZXB_5-81",
        "colab": {
          "base_uri": "https://localhost:8080/",
          "height": 318
        },
        "outputId": "b7fb4532-46b5-4a41-edd2-145cd32eb4bb"
      },
      "outputs": [
        {
          "output_type": "display_data",
          "data": {
            "text/plain": [
              "shape: (7, 4)\n",
              "┌─────────┬───────────────┬──────────────┬──────────────┐\n",
              "│ Clarity ┆ diamond_count ┆ avg_price    ┆ total_carats │\n",
              "│ ---     ┆ ---           ┆ ---          ┆ ---          │\n",
              "│ str     ┆ u32           ┆ f64          ┆ f64          │\n",
              "╞═════════╪═══════════════╪══════════════╪══════════════╡\n",
              "│ FL      ┆ 4             ┆ 63776.0      ┆ 7.87         │\n",
              "│ IF      ┆ 219           ┆ 22105.844749 ┆ 316.0        │\n",
              "│ VVS1    ┆ 285           ┆ 16845.680702 ┆ 389.43       │\n",
              "│ VVS2    ┆ 666           ┆ 14142.177177 ┆ 876.58       │\n",
              "│ VS1     ┆ 1192          ┆ 13694.113255 ┆ 1682.74      │\n",
              "│ VS2     ┆ 1575          ┆ 11809.053333 ┆ 2170.81      │\n",
              "│ SI1     ┆ 2059          ┆ 8018.864012  ┆ 2563.69      │\n",
              "└─────────┴───────────────┴──────────────┴──────────────┘"
            ],
            "text/html": [
              "<div><style>\n",
              ".dataframe > thead > tr,\n",
              ".dataframe > tbody > tr {\n",
              "  text-align: right;\n",
              "  white-space: pre-wrap;\n",
              "}\n",
              "</style>\n",
              "<small>shape: (7, 4)</small><table border=\"1\" class=\"dataframe\"><thead><tr><th>Clarity</th><th>diamond_count</th><th>avg_price</th><th>total_carats</th></tr><tr><td>str</td><td>u32</td><td>f64</td><td>f64</td></tr></thead><tbody><tr><td>&quot;FL&quot;</td><td>4</td><td>63776.0</td><td>7.87</td></tr><tr><td>&quot;IF&quot;</td><td>219</td><td>22105.844749</td><td>316.0</td></tr><tr><td>&quot;VVS1&quot;</td><td>285</td><td>16845.680702</td><td>389.43</td></tr><tr><td>&quot;VVS2&quot;</td><td>666</td><td>14142.177177</td><td>876.58</td></tr><tr><td>&quot;VS1&quot;</td><td>1192</td><td>13694.113255</td><td>1682.74</td></tr><tr><td>&quot;VS2&quot;</td><td>1575</td><td>11809.053333</td><td>2170.81</td></tr><tr><td>&quot;SI1&quot;</td><td>2059</td><td>8018.864012</td><td>2563.69</td></tr></tbody></table></div>"
            ]
          },
          "metadata": {}
        }
      ],
      "source": [
        "# Your code here:\n",
        "clarity_breakdown = (\n",
        "    df.group_by(\"Clarity\")\n",
        "    .agg([\n",
        "        pl.len().alias(\"diamond_count\"),\n",
        "        pl.col(\"Price\").mean().alias(\"avg_price\"),\n",
        "        pl.col(\"Carat Weight\").sum().alias(\"total_carats\")\n",
        "    ])\n",
        "    .sort(\"avg_price\", descending=True)\n",
        ")\n",
        "display(clarity_breakdown)"
      ]
    },
    {
      "cell_type": "markdown",
      "metadata": {
        "id": "F6L97Tu95-81"
      },
      "source": [
        "### Question 9: \"My luxury competitor claims they have the best prices for every cut-color combination. Show me our pricing structure across these combinations - I want to see where we're competitive.\""
      ]
    },
    {
      "cell_type": "code",
      "execution_count": 34,
      "metadata": {
        "id": "x1_DoiZF5-81",
        "colab": {
          "base_uri": "https://localhost:8080/",
          "height": 443
        },
        "outputId": "7d66ea6e-bf25-4906-8030-faa97b680361"
      },
      "outputs": [
        {
          "output_type": "display_data",
          "data": {
            "text/plain": [
              "shape: (30, 3)\n",
              "┌───────────┬───────┬──────────────┐\n",
              "│ Cut       ┆ Color ┆ avg_price    │\n",
              "│ ---       ┆ ---   ┆ ---          │\n",
              "│ str       ┆ str   ┆ f64          │\n",
              "╞═══════════╪═══════╪══════════════╡\n",
              "│ Fair      ┆ D     ┆ 6058.25      │\n",
              "│ Fair      ┆ E     ┆ 5370.625     │\n",
              "│ Fair      ┆ F     ┆ 6063.625     │\n",
              "│ Fair      ┆ G     ┆ 7345.52381   │\n",
              "│ Fair      ┆ H     ┆ 5908.5       │\n",
              "│ …         ┆ …     ┆ …            │\n",
              "│ Very Good ┆ E     ┆ 12101.910217 │\n",
              "│ Very Good ┆ F     ┆ 12413.905495 │\n",
              "│ Very Good ┆ G     ┆ 12354.013841 │\n",
              "│ Very Good ┆ H     ┆ 10056.106132 │\n",
              "│ Very Good ┆ I     ┆ 8930.031332  │\n",
              "└───────────┴───────┴──────────────┘"
            ],
            "text/html": [
              "<div><style>\n",
              ".dataframe > thead > tr,\n",
              ".dataframe > tbody > tr {\n",
              "  text-align: right;\n",
              "  white-space: pre-wrap;\n",
              "}\n",
              "</style>\n",
              "<small>shape: (30, 3)</small><table border=\"1\" class=\"dataframe\"><thead><tr><th>Cut</th><th>Color</th><th>avg_price</th></tr><tr><td>str</td><td>str</td><td>f64</td></tr></thead><tbody><tr><td>&quot;Fair&quot;</td><td>&quot;D&quot;</td><td>6058.25</td></tr><tr><td>&quot;Fair&quot;</td><td>&quot;E&quot;</td><td>5370.625</td></tr><tr><td>&quot;Fair&quot;</td><td>&quot;F&quot;</td><td>6063.625</td></tr><tr><td>&quot;Fair&quot;</td><td>&quot;G&quot;</td><td>7345.52381</td></tr><tr><td>&quot;Fair&quot;</td><td>&quot;H&quot;</td><td>5908.5</td></tr><tr><td>&hellip;</td><td>&hellip;</td><td>&hellip;</td></tr><tr><td>&quot;Very Good&quot;</td><td>&quot;E&quot;</td><td>12101.910217</td></tr><tr><td>&quot;Very Good&quot;</td><td>&quot;F&quot;</td><td>12413.905495</td></tr><tr><td>&quot;Very Good&quot;</td><td>&quot;G&quot;</td><td>12354.013841</td></tr><tr><td>&quot;Very Good&quot;</td><td>&quot;H&quot;</td><td>10056.106132</td></tr><tr><td>&quot;Very Good&quot;</td><td>&quot;I&quot;</td><td>8930.031332</td></tr></tbody></table></div>"
            ]
          },
          "metadata": {}
        }
      ],
      "source": [
        "# Your code here:\n",
        "cut_color_pricing = (\n",
        "    df.group_by([\"Cut\", \"Color\"])\n",
        "    .agg(pl.col(\"Price\").mean().alias(\"avg_price\"))\n",
        "    .sort([\"Cut\", \"Color\"])\n",
        ")\n",
        "display(cut_color_pricing)"
      ]
    },
    {
      "cell_type": "markdown",
      "metadata": {
        "id": "N-5p7kks5-81"
      },
      "source": [
        "**Reflection:** How specific is your analysis now? What level of detail does each row represent?"
      ]
    },
    {
      "cell_type": "markdown",
      "metadata": {
        "id": "QNbaP3KR5-81"
      },
      "source": [
        "**Your answer:** New grain =  Each row shows a specific cut and color of diamond, with the average price for them."
      ]
    },
    {
      "cell_type": "markdown",
      "metadata": {
        "id": "-2KaA3HT5-81"
      },
      "source": [
        "### Question 10: URGENT - \"Our biggest client is interested in purchasing entire inventory segments. They asked: 'Which color-cut combinations represent your highest total inventory value?' Show me the top 5 most valuable inventory segments by total worth, and include how many diamonds are in each segment.\"\n",
        "\n",
        "This is critical for tomorrow's negotiation."
      ]
    },
    {
      "cell_type": "code",
      "execution_count": 38,
      "metadata": {
        "id": "OIDr21ri5-81",
        "colab": {
          "base_uri": "https://localhost:8080/",
          "height": 255
        },
        "outputId": "2a9db830-12af-466a-f919-db0c79cf2607"
      },
      "outputs": [
        {
          "output_type": "display_data",
          "data": {
            "text/plain": [
              "shape: (5, 4)\n",
              "┌───────┬───────────┬───────────────┬─────────────┐\n",
              "│ Color ┆ Cut       ┆ diamond_count ┆ total_value │\n",
              "│ ---   ┆ ---       ┆ ---           ┆ ---         │\n",
              "│ str   ┆ str       ┆ u32           ┆ i64         │\n",
              "╞═══════╪═══════════╪═══════════════╪═════════════╡\n",
              "│ G     ┆ Ideal     ┆ 690           ┆ 9363514     │\n",
              "│ G     ┆ Very Good ┆ 578           ┆ 7140620     │\n",
              "│ F     ┆ Very Good ┆ 455           ┆ 5648327     │\n",
              "│ F     ┆ Ideal     ┆ 363           ┆ 5346782     │\n",
              "│ H     ┆ Ideal     ┆ 458           ┆ 5279687     │\n",
              "└───────┴───────────┴───────────────┴─────────────┘"
            ],
            "text/html": [
              "<div><style>\n",
              ".dataframe > thead > tr,\n",
              ".dataframe > tbody > tr {\n",
              "  text-align: right;\n",
              "  white-space: pre-wrap;\n",
              "}\n",
              "</style>\n",
              "<small>shape: (5, 4)</small><table border=\"1\" class=\"dataframe\"><thead><tr><th>Color</th><th>Cut</th><th>diamond_count</th><th>total_value</th></tr><tr><td>str</td><td>str</td><td>u32</td><td>i64</td></tr></thead><tbody><tr><td>&quot;G&quot;</td><td>&quot;Ideal&quot;</td><td>690</td><td>9363514</td></tr><tr><td>&quot;G&quot;</td><td>&quot;Very Good&quot;</td><td>578</td><td>7140620</td></tr><tr><td>&quot;F&quot;</td><td>&quot;Very Good&quot;</td><td>455</td><td>5648327</td></tr><tr><td>&quot;F&quot;</td><td>&quot;Ideal&quot;</td><td>363</td><td>5346782</td></tr><tr><td>&quot;H&quot;</td><td>&quot;Ideal&quot;</td><td>458</td><td>5279687</td></tr></tbody></table></div>"
            ]
          },
          "metadata": {}
        }
      ],
      "source": [
        "# Your code here:\n",
        "top_segments = (\n",
        "    df.group_by([\"Color\", \"Cut\"])\n",
        "    .agg([\n",
        "        pl.len().alias(\"diamond_count\"),\n",
        "        (pl.col(\"Price\").sum()).alias(\"total_value\")\n",
        "    ])\n",
        "    .sort(\"total_value\", descending=True)\n",
        "    .head(5)\n",
        ")\n",
        "display(top_segments)"
      ]
    },
    {
      "cell_type": "markdown",
      "metadata": {
        "id": "AARgl9nK5-81"
      },
      "source": [
        "## Debrief\n",
        "\n",
        "Congratulations! You've just completed your first day as the diamond company's data analyst.\n",
        "\n",
        "Remember:\n",
        "- CEOs speak in business language, not technical terms\n",
        "- Always understand what each row represents before analyzing\n",
        "- Business questions contain clues about which operations to use"
      ]
    }
  ],
  "metadata": {
    "kernelspec": {
      "display_name": "Python 3",
      "language": "python",
      "name": "python3"
    },
    "language_info": {
      "codemirror_mode": {
        "name": "ipython",
        "version": 3
      },
      "file_extension": ".py",
      "mimetype": "text/x-python",
      "name": "python",
      "nbconvert_exporter": "python",
      "pygments_lexer": "ipython3",
      "version": "3.12.0"
    },
    "colab": {
      "provenance": []
    }
  },
  "nbformat": 4,
  "nbformat_minor": 0
}